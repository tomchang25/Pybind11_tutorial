{
 "cells": [
  {
   "cell_type": "code",
   "execution_count": 1,
   "metadata": {},
   "outputs": [],
   "source": [
    "from __future__ import print_function, division\n",
    "import os\n",
    "import pandas as pd\n",
    "from skimage import io, transform\n",
    "import numpy as np\n",
    "import matplotlib.pyplot as plt\n",
    "\n",
    "import random\n",
    "import time\n",
    "\n",
    "import tensorflow as tf\n",
    "from tensorflow.data import Dataset\n",
    "\n",
    "from Transform import *\n",
    "\n",
    "tf.enable_eager_execution()\n",
    "\n",
    "# Ignore warnings\n",
    "import warnings\n",
    "warnings.filterwarnings(\"ignore\")\n",
    "\n",
    "plt.ion()   # interactive mode\n",
    "\n",
    "csv_file='data/faces/face_landmarks.csv'\n",
    "root_dir='data/faces/'"
   ]
  },
  {
   "cell_type": "code",
   "execution_count": 2,
   "metadata": {},
   "outputs": [],
   "source": [
    "from test import *\n",
    "import numpy as np"
   ]
  },
  {
   "cell_type": "code",
   "execution_count": 3,
   "metadata": {},
   "outputs": [],
   "source": [
    "def show_landmarks(image, landmarks):\n",
    "    \"\"\"Show image with landmarks\"\"\"\n",
    "    plt.imshow(image)\n",
    "    plt.scatter(landmarks[:, 0], landmarks[:, 1], s=10, marker='.', c='r')\n",
    "    plt.pause(0.001)  # pause a bit so that plots are updated\n"
   ]
  },
  {
   "cell_type": "code",
   "execution_count": 4,
   "metadata": {},
   "outputs": [
    {
     "data": {
      "text/plain": [
       "(array([], shape=(0, 224, 224, 3), dtype=float64),\n",
       " array([[[  8.14883721,  89.82790698],\n",
       "         [  8.14883721, 107.68837209],\n",
       "         [ 10.53023256, 125.54883721],\n",
       "         ...,\n",
       "         [ 86.73488372, 151.74418605],\n",
       "         [ 81.97209302, 151.74418605],\n",
       "         [ 76.01860465, 150.55348837]],\n",
       " \n",
       "        [[-53.18618619, 155.42942943],\n",
       "         [-52.41741742, 171.57357357],\n",
       "         [-49.34234234, 187.71771772],\n",
       "         ...,\n",
       "         [  7.54654655, 213.85585586],\n",
       "         [ -1.67867868, 215.39339339],\n",
       "         [ -8.5975976 , 213.85585586]],\n",
       " \n",
       "        [[ 40.584     , 106.736     ],\n",
       "         [ 39.56      , 121.072     ],\n",
       "         [ 41.608     , 135.408     ],\n",
       "         ...,\n",
       "         [103.048     , 159.984     ],\n",
       "         [ 96.904     , 158.96      ],\n",
       "         [ 91.784     , 157.936     ]],\n",
       " \n",
       "        ...,\n",
       " \n",
       "        [[ 84.54066986,  93.66507177],\n",
       "         [ 85.76555024, 105.9138756 ],\n",
       "         [ 86.99043062, 118.16267943],\n",
       "         ...,\n",
       "         [135.98564593, 140.21052632],\n",
       "         [128.63636364, 141.4354067 ],\n",
       "         [122.51196172, 140.21052632]],\n",
       " \n",
       "        [[-56.89349112, 135.36094675],\n",
       "         [-56.89349112, 152.02366864],\n",
       "         [-53.86390533, 168.68639053],\n",
       "         ...,\n",
       "         [  9.75739645, 189.89349112],\n",
       "         [  3.69822485, 189.89349112],\n",
       "         [ -2.36094675, 189.89349112]],\n",
       " \n",
       "        [[ 20.51428571, 128.45142857],\n",
       "         [ 20.51428571, 147.46857143],\n",
       "         [ 21.97714286, 166.48571429],\n",
       "         ...,\n",
       "         [ 79.02857143, 210.37142857],\n",
       "         [ 70.25142857, 210.37142857],\n",
       "         [ 61.47428571, 208.90857143]]]))"
      ]
     },
     "execution_count": 4,
     "metadata": {},
     "output_type": "execute_result"
    }
   ],
   "source": [
    "createFaceLandmarksArray(csv_file,root_dir)[0.shape]"
   ]
  }
 ],
 "metadata": {
  "kernelspec": {
   "display_name": "Python 3",
   "language": "python",
   "name": "python3"
  },
  "language_info": {
   "codemirror_mode": {
    "name": "ipython",
    "version": 3
   },
   "file_extension": ".py",
   "mimetype": "text/x-python",
   "name": "python",
   "nbconvert_exporter": "python",
   "pygments_lexer": "ipython3",
   "version": "3.7.3"
  }
 },
 "nbformat": 4,
 "nbformat_minor": 2
}
