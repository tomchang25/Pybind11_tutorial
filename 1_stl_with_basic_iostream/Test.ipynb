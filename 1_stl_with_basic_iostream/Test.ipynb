{
 "cells": [
  {
   "cell_type": "code",
   "execution_count": 1,
   "metadata": {},
   "outputs": [],
   "source": [
    "from STL import *"
   ]
  },
  {
   "cell_type": "code",
   "execution_count": 2,
   "metadata": {},
   "outputs": [
    {
     "name": "stdout",
     "output_type": "stream",
     "text": [
      "Python: \n",
      "hello world!\n",
      "\n",
      "Jupyter: \n",
      "hello world!\n"
     ]
    }
   ],
   "source": [
    "print(\"Python: \")\n",
    "!python -c \"from STL import *; test()\"\n",
    "print()\n",
    "print(\"Jupyter: \")\n",
    "test()"
   ]
  },
  {
   "cell_type": "code",
   "execution_count": 5,
   "metadata": {},
   "outputs": [
    {
     "name": "stdout",
     "output_type": "stream",
     "text": [
      "Python: \n",
      "hello world!\n",
      "\n",
      "Jupyter: \n"
     ]
    }
   ],
   "source": [
    "print(\"Python: \")\n",
    "!python -c \"from STL import *; test_pure()\"\n",
    "print()\n",
    "print(\"Jupyter: \")\n",
    "test_pure()"
   ]
  },
  {
   "cell_type": "code",
   "execution_count": 3,
   "metadata": {},
   "outputs": [
    {
     "name": "stdout",
     "output_type": "stream",
     "text": [
      "10 random int:  [923, 951, 350, 487, 245, 9, 0, 351, 32, 697]\n"
     ]
    }
   ],
   "source": [
    "print(\"10 random int: \",randomint1D(-100,1000,10))"
   ]
  },
  {
   "cell_type": "code",
   "execution_count": 6,
   "metadata": {},
   "outputs": [
    {
     "name": "stdout",
     "output_type": "stream",
     "text": [
      "Shape:  [5, 3]\n",
      "2D array:  [[0, 0, 0], [0, 0, 0], [0, 0, 0], [0, 0, 0], [0, 0, 0]]\n"
     ]
    }
   ],
   "source": [
    "shape = randomint1D(1,10,2)\n",
    "print(\"Shape: \",shape)\n",
    "print(\"2D array: \",zeros2D(shape))"
   ]
  },
  {
   "cell_type": "code",
   "execution_count": null,
   "metadata": {},
   "outputs": [],
   "source": []
  }
 ],
 "metadata": {
  "kernelspec": {
   "display_name": "Python 3",
   "language": "python",
   "name": "python3"
  },
  "language_info": {
   "codemirror_mode": {
    "name": "ipython",
    "version": 3
   },
   "file_extension": ".py",
   "mimetype": "text/x-python",
   "name": "python",
   "nbconvert_exporter": "python",
   "pygments_lexer": "ipython3",
   "version": "3.7.3"
  }
 },
 "nbformat": 4,
 "nbformat_minor": 2
}
