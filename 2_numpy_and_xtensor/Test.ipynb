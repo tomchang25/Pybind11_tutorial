{
 "cells": [
  {
   "cell_type": "code",
   "execution_count": 1,
   "metadata": {},
   "outputs": [],
   "source": [
    "from SimpleNumpy import *\n",
    "import numpy as np"
   ]
  },
  {
   "cell_type": "code",
   "execution_count": 2,
   "metadata": {},
   "outputs": [
    {
     "name": "stdout",
     "output_type": "stream",
     "text": [
      "hello world!\n"
     ]
    }
   ],
   "source": [
    "test()"
   ]
  },
  {
   "cell_type": "code",
   "execution_count": 3,
   "metadata": {},
   "outputs": [],
   "source": [
    "a = np.array([[1,2,3],[2,4,6]])\n",
    "b = np.array([[5,6,7],[8,9,10]])"
   ]
  },
  {
   "cell_type": "code",
   "execution_count": 4,
   "metadata": {},
   "outputs": [
    {
     "name": "stdout",
     "output_type": "stream",
     "text": [
      "[[0. 1. 2.]\n",
      " [1. 3. 5.]]\n"
     ]
    }
   ],
   "source": [
    "c = sub_val(a,1)\n",
    "print(c)"
   ]
  },
  {
   "cell_type": "code",
   "execution_count": 5,
   "metadata": {},
   "outputs": [
    {
     "name": "stdout",
     "output_type": "stream",
     "text": [
      "[[ 5.  7.  9.]\n",
      " [ 9. 12. 15.]]\n"
     ]
    }
   ],
   "source": [
    "d = plus_arr(c,b)\n",
    "print(d)"
   ]
  },
  {
   "cell_type": "code",
   "execution_count": 9,
   "metadata": {},
   "outputs": [
    {
     "name": "stdout",
     "output_type": "stream",
     "text": [
      "[[[ 5.  7.  9.]\n",
      "  [ 9. 12. 15.]]\n",
      "\n",
      " [[ 5.  7.  9.]\n",
      "  [ 9. 12. 15.]]\n",
      "\n",
      " [[ 5.  7.  9.]\n",
      "  [ 9. 12. 15.]]\n",
      "\n",
      " [[ 5.  7.  9.]\n",
      "  [ 9. 12. 15.]]\n",
      "\n",
      " [[ 5.  7.  9.]\n",
      "  [ 9. 12. 15.]]]\n"
     ]
    }
   ],
   "source": [
    "f = repeat(d,[0,2,3],5)\n",
    "print(f)"
   ]
  }
 ],
 "metadata": {
  "kernelspec": {
   "display_name": "Python 3",
   "language": "python",
   "name": "python3"
  },
  "language_info": {
   "codemirror_mode": {
    "name": "ipython",
    "version": 3
   },
   "file_extension": ".py",
   "mimetype": "text/x-python",
   "name": "python",
   "nbconvert_exporter": "python",
   "pygments_lexer": "ipython3",
   "version": "3.7.3"
  }
 },
 "nbformat": 4,
 "nbformat_minor": 2
}
