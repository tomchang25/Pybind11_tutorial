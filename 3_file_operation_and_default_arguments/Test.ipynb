{
 "cells": [
  {
   "cell_type": "code",
   "execution_count": 1,
   "metadata": {},
   "outputs": [],
   "source": [
    "from File import *"
   ]
  },
  {
   "cell_type": "code",
   "execution_count": 2,
   "metadata": {},
   "outputs": [
    {
     "name": "stdout",
     "output_type": "stream",
     "text": [
      "hello world!\n"
     ]
    }
   ],
   "source": [
    "test()"
   ]
  },
  {
   "cell_type": "code",
   "execution_count": 3,
   "metadata": {},
   "outputs": [
    {
     "name": "stdout",
     "output_type": "stream",
     "text": [
      "[(0, -32767), (1, 0), (2, 0), (3, 0), (4, 0)]\n"
     ]
    }
   ],
   "source": [
    "a = read_bin(\"./data/1.bin\")\n",
    "print(a[:5])"
   ]
  },
  {
   "cell_type": "code",
   "execution_count": 9,
   "metadata": {},
   "outputs": [
    {
     "name": "stdout",
     "output_type": "stream",
     "text": [
      "CSV format is wrong. \n"
     ]
    }
   ],
   "source": [
    "try:\n",
    "    b = read_csv(file_name=\"./data/2.csv\",ignore_first=False)\n",
    "except:\n",
    "    print(\"CSV format is wrong. \")"
   ]
  },
  {
   "cell_type": "code",
   "execution_count": 8,
   "metadata": {},
   "outputs": [
    {
     "name": "stdout",
     "output_type": "stream",
     "text": [
      "[('0001', 1996, 5, 24, 'Greysuki', 20000), ('0002', 1997, 1, 14, 'Areysuki', 54000), ('0003', 1998, 2, 8, 'Breysuki', 300000), ('0004', 1999, 3, 26, 'Creysuki', 41000), ('0005', 1990, 4, 27, 'Dreysuki', 70000), ('0006', 1991, 5, 28, 'Ereysuki', 80000)]\n"
     ]
    }
   ],
   "source": [
    "c = read_csv(\"./data/2.csv\")\n",
    "print(c)"
   ]
  },
  {
   "cell_type": "code",
   "execution_count": null,
   "metadata": {},
   "outputs": [],
   "source": []
  }
 ],
 "metadata": {
  "kernelspec": {
   "display_name": "Python 3",
   "language": "python",
   "name": "python3"
  },
  "language_info": {
   "codemirror_mode": {
    "name": "ipython",
    "version": 3
   },
   "file_extension": ".py",
   "mimetype": "text/x-python",
   "name": "python",
   "nbconvert_exporter": "python",
   "pygments_lexer": "ipython3",
   "version": "3.7.3"
  }
 },
 "nbformat": 4,
 "nbformat_minor": 2
}
